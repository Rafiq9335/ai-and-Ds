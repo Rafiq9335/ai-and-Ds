{
 "cells": [
  {
   "cell_type": "code",
   "execution_count": 1,
   "id": "fc3aa67a",
   "metadata": {},
   "outputs": [
    {
     "name": "stdout",
     "output_type": "stream",
     "text": [
      "Both multiplied by 5 (NumPy is faster in real execution).\n"
     ]
    }
   ],
   "source": [
    "import numpy as np\n",
    "\n",
    "# Python list\n",
    "lst = list(range(100000))\n",
    "lst_result = [x * 5 for x in lst]\n",
    "\n",
    "# NumPy array\n",
    "arr = np.arange(100000)\n",
    "arr_result = arr * 5\n",
    "\n",
    "print(\"Both multiplied by 5 (NumPy is faster in real execution).\")\n"
   ]
  },
  {
   "cell_type": "code",
   "execution_count": 2,
   "id": "1fede578",
   "metadata": {},
   "outputs": [
    {
     "name": "stdout",
     "output_type": "stream",
     "text": [
      "1D Array: [ 1  2  3  4  5  6  7  8  9 10]\n",
      "2D Array:\n",
      " [[1 2 3]\n",
      " [4 5 6]\n",
      " [7 8 9]]\n",
      "Dimensions: 1\n",
      "Shape: (10,)\n",
      "Size: 10\n",
      "DataType: int64\n",
      "Item size: 8 \n",
      "\n",
      "Dimensions: 2\n",
      "Shape: (3, 3)\n",
      "Size: 9\n",
      "DataType: int64\n",
      "Item size: 8 \n",
      "\n",
      "Float Array:\n",
      " [[0.60273223 0.18797002 0.33037681]\n",
      " [0.67933403 0.06311169 0.00729938]\n",
      " [0.11790159 0.73030595 0.24242518]]\n",
      "Converted to Int:\n",
      " [[0 0 0]\n",
      " [0 0 0]\n",
      " [0 0 0]]\n"
     ]
    }
   ],
   "source": [
    "a = np.arange(1, 11)\n",
    "b = np.arange(1, 10).reshape(3, 3)\n",
    "\n",
    "print(\"1D Array:\", a)\n",
    "print(\"2D Array:\\n\", b)\n",
    "\n",
    "for x in [a, b]:\n",
    "    print(\"Dimensions:\", x.ndim)\n",
    "    print(\"Shape:\", x.shape)\n",
    "    print(\"Size:\", x.size)\n",
    "    print(\"DataType:\", x.dtype)\n",
    "    print(\"Item size:\", x.itemsize, \"\\n\")\n",
    "\n",
    "# Convert float array to int\n",
    "float_arr = np.random.rand(3,3)\n",
    "int_arr = float_arr.astype(int)\n",
    "print(\"Float Array:\\n\", float_arr)\n",
    "print(\"Converted to Int:\\n\", int_arr)\n"
   ]
  },
  {
   "cell_type": "code",
   "execution_count": 5,
   "id": "d8144af4",
   "metadata": {},
   "outputs": [
    {
     "name": "stdout",
     "output_type": "stream",
     "text": [
      "Zeros:\n",
      " [[0. 0. 0. 0.]\n",
      " [0. 0. 0. 0.]\n",
      " [0. 0. 0. 0.]\n",
      " [0. 0. 0. 0.]]\n",
      "Ones:\n",
      " [[1. 1.]\n",
      " [1. 1.]\n",
      " [1. 1.]]\n",
      "Identity:\n",
      " [[1. 0. 0. 0. 0.]\n",
      " [0. 1. 0. 0. 0.]\n",
      " [0. 0. 1. 0. 0.]\n",
      " [0. 0. 0. 1. 0.]\n",
      " [0. 0. 0. 0. 1.]]\n",
      "Constant 7:\n",
      " [[7 7 7]\n",
      " [7 7 7]]\n",
      "Random Integers:\n",
      " [[46 26 73 75]\n",
      " [22 61 92 64]\n",
      " [89 42 64 87]]\n",
      "Arange and Reshape:\n",
      " [[ 5 11 17]\n",
      " [23 29 35]\n",
      " [41 47 53]]\n"
     ]
    }
   ],
   "source": [
    "print(\"Zeros:\\n\", np.zeros((4,4)))\n",
    "print(\"Ones:\\n\", np.ones((3,2)))\n",
    "print(\"Identity:\\n\", np.eye(5))\n",
    "print(\"Constant 7:\\n\", np.full((2,3), 7))\n",
    "print(\"Random Integers:\\n\", np.random.randint(10, 99, (3,4)))\n",
    "\n",
    "arr = np.arange(5, 55, 6).reshape(3,3)\n",
    "print(\"Arange and Reshape:\\n\", arr)\n"
   ]
  },
  {
   "cell_type": "code",
   "execution_count": 8,
   "id": "2fa3385c",
   "metadata": {},
   "outputs": [
    {
     "name": "stdout",
     "output_type": "stream",
     "text": [
      "Second Row: [50 60 70 80]\n",
      "First 2 rows, last 2 columns:\n",
      " [[30 40]\n",
      " [70 80]]\n",
      "Last Column: [ 40  80 120]\n",
      "Modified Array:\n",
      " [[ 10  20  30  40]\n",
      " [  1   2   3   4]\n",
      " [ 90 100 110 120]]\n"
     ]
    }
   ],
   "source": [
    "arr = np.array([[10, 20, 30, 40],\n",
    "                [50, 60, 70, 80],\n",
    "                [90, 100, 110, 120]])\n",
    "\n",
    "print(\"Second Row:\", arr[1])\n",
    "print(\"First 2 rows, last 2 columns:\\n\", arr[:2, 2:])\n",
    "print(\"Last Column:\", arr[:, -1])\n",
    "\n",
    "arr[1] = [1, 2, 3, 4]\n",
    "print(\"Modified Array:\\n\", arr)\n"
   ]
  },
  {
   "cell_type": "code",
   "execution_count": 12,
   "id": "513aed8e",
   "metadata": {},
   "outputs": [
    {
     "name": "stdout",
     "output_type": "stream",
     "text": [
      "A: [7 2 9 2 8]\n",
      "B: [9 5 2 5 9]\n",
      "Addition: [16  7 11  7 17]\n",
      "Subtraction: [-2 -3  7 -3 -1]\n",
      "Multiplication: [63 10 18 10 72]\n",
      "Division: [0.77777778 0.4        4.5        0.4        0.88888889]\n",
      "Square Root: [1.         1.41421356 1.73205081 2.         2.23606798]\n",
      "Exponential: [  2.71828183   7.3890561   20.08553692  54.59815003 148.4131591 ]\n",
      "Sine: [ 0.84147098  0.90929743  0.14112001 -0.7568025  -0.95892427]\n",
      "Fahrenheit: [ 32.  50.  68.  86. 104. 122. 140. 158. 176. 194.]\n"
     ]
    }
   ],
   "source": [
    "A = np.random.randint(1, 10, 5)\n",
    "B = np.random.randint(1, 10, 5)\n",
    "\n",
    "print(\"A:\", A)\n",
    "print(\"B:\", B)\n",
    "print(\"Addition:\", A + B)\n",
    "print(\"Subtraction:\", A - B)\n",
    "print(\"Multiplication:\", A * B)\n",
    "print(\"Division:\", A / B)\n",
    "\n",
    "x = np.arange(1, 6)\n",
    "print(\"Square Root:\", np.sqrt(x))\n",
    "print(\"Exponential:\", np.exp(x))\n",
    "print(\"Sine:\", np.sin(x))\n",
    "\n",
    "C = np.array([0, 10, 20, 30, 40, 50, 60, 70, 80, 90])\n",
    "F = (C * 9/5) + 32\n",
    "print(\"Fahrenheit:\", F)\n"
   ]
  },
  {
   "cell_type": "code",
   "execution_count": 13,
   "id": "0812fd4a",
   "metadata": {},
   "outputs": [
    {
     "name": "stdout",
     "output_type": "stream",
     "text": [
      "Add 10:\n",
      " [[11 12 13]\n",
      " [14 15 16]\n",
      " [17 18 19]]\n",
      "Add Row Vector:\n",
      " [[ 2  4  6]\n",
      " [ 5  7  9]\n",
      " [ 8 10 12]]\n",
      "Add Column Vector:\n",
      " [[ 2  3  4]\n",
      " [ 6  7  8]\n",
      " [10 11 12]]\n"
     ]
    }
   ],
   "source": [
    "A = np.arange(1, 10).reshape(3,3)\n",
    "\n",
    "print(\"Add 10:\\n\", A + 10)\n",
    "print(\"Add Row Vector:\\n\", A + np.array([1, 2, 3]))\n",
    "print(\"Add Column Vector:\\n\", A + np.array([[1], [2], [3]]))\n"
   ]
  },
  {
   "cell_type": "code",
   "execution_count": 14,
   "id": "6a861a71",
   "metadata": {},
   "outputs": [
    {
     "name": "stdout",
     "output_type": "stream",
     "text": [
      "3x4:\n",
      " [[ 1  2  3  4]\n",
      " [ 5  6  7  8]\n",
      " [ 9 10 11 12]]\n",
      "2x6:\n",
      " [[ 1  2  3  4  5  6]\n",
      " [ 7  8  9 10 11 12]]\n",
      "Flattened: [100   2   3   4   5   6   7   8   9]\n",
      "Raveled: [  1 200   3   4   5   6   7   8   9]\n",
      "Original after flatten:\n",
      " [[  1 200   3]\n",
      " [  4   5   6]\n",
      " [  7   8   9]]\n",
      "Original after ravel:\n",
      " [[  1 200   3]\n",
      " [  4   5   6]\n",
      " [  7   8   9]]\n"
     ]
    }
   ],
   "source": [
    "arr = np.arange(1, 13)\n",
    "print(\"3x4:\\n\", arr.reshape(3,4))\n",
    "print(\"2x6:\\n\", arr.reshape(2,6))\n",
    "\n",
    "a = np.arange(1, 10).reshape(3, 3)\n",
    "flat = a.flatten()\n",
    "rav = a.ravel()\n",
    "\n",
    "flat[0] = 100\n",
    "rav[1] = 200\n",
    "\n",
    "print(\"Flattened:\", flat)\n",
    "print(\"Raveled:\", rav)\n",
    "print(\"Original after flatten:\\n\", a)   # no change\n",
    "print(\"Original after ravel:\\n\", a)     # changes reflected\n"
   ]
  },
  {
   "cell_type": "code",
   "execution_count": null,
   "id": "3711537d",
   "metadata": {},
   "outputs": [],
   "source": []
  }
 ],
 "metadata": {
  "kernelspec": {
   "display_name": "Python 3",
   "language": "python",
   "name": "python3"
  },
  "language_info": {
   "codemirror_mode": {
    "name": "ipython",
    "version": 3
   },
   "file_extension": ".py",
   "mimetype": "text/x-python",
   "name": "python",
   "nbconvert_exporter": "python",
   "pygments_lexer": "ipython3",
   "version": "3.14.0"
  }
 },
 "nbformat": 4,
 "nbformat_minor": 5
}
